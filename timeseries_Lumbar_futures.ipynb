{
  "nbformat": 4,
  "nbformat_minor": 0,
  "metadata": {
    "colab": {
      "name": "timeseries_Lumbar-futures.ipynb",
      "provenance": []
    },
    "kernelspec": {
      "name": "python3",
      "display_name": "Python 3"
    }
  },
  "cells": [
    {
      "cell_type": "code",
      "metadata": {
        "id": "WFSn9YvJ_qST"
      },
      "source": [
        "import pandas as pd\n",
        "import numpy as np\n",
        "from sklearn.preprocessing import MinMaxScaler\n",
        "import matplotlib.pyplot as plt\n",
        "import math\n",
        "from tensorflow.keras.models import Sequential\n",
        "from tensorflow.keras.layers import LSTM\n",
        "from tensorflow.keras.layers import Dense\n",
        "from sklearn.metrics import mean_squared_error\n",
        "\n",
        "np.random.seed(0)"
      ],
      "execution_count": null,
      "outputs": []
    },
    {
      "cell_type": "code",
      "metadata": {
        "colab": {
          "resources": {
            "http://localhost:8080/nbextensions/google.colab/files.js": {
              "data": "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",
              "ok": true,
              "headers": [
                [
                  "content-type",
                  "application/javascript"
                ]
              ],
              "status": 200,
              "status_text": ""
            }
          },
          "base_uri": "https://localhost:8080/",
          "height": 72
        },
        "id": "y1FzjihV_EXD",
        "outputId": "7b3ba3f3-d50a-42e7-b0ba-8237fc766288"
      },
      "source": [
        "#read the data and show it\n",
        "from google.colab import files\n",
        "uploaded =files.upload()\n",
        "#reading the data set into a pandas dataframe\n",
        "df = pd.read_csv(\"Lumber-futures.csv\")"
      ],
      "execution_count": null,
      "outputs": [
        {
          "output_type": "display_data",
          "data": {
            "text/html": [
              "\n",
              "     <input type=\"file\" id=\"files-1ba8fed4-b204-48ac-b410-b8de720c2945\" name=\"files[]\" multiple disabled\n",
              "        style=\"border:none\" />\n",
              "     <output id=\"result-1ba8fed4-b204-48ac-b410-b8de720c2945\">\n",
              "      Upload widget is only available when the cell has been executed in the\n",
              "      current browser session. Please rerun this cell to enable.\n",
              "      </output>\n",
              "      <script src=\"/nbextensions/google.colab/files.js\"></script> "
            ],
            "text/plain": [
              "<IPython.core.display.HTML object>"
            ]
          },
          "metadata": {
            "tags": []
          }
        },
        {
          "output_type": "stream",
          "text": [
            "Saving Lumber-futures.csv to Lumber-futures.csv\n"
          ],
          "name": "stdout"
        }
      ]
    },
    {
      "cell_type": "code",
      "metadata": {
        "colab": {
          "base_uri": "https://localhost:8080/",
          "height": 419
        },
        "id": "EWLf-633_3_6",
        "outputId": "1a55eab5-de09-4ae7-9738-2fde118bc085"
      },
      "source": [
        "df"
      ],
      "execution_count": null,
      "outputs": [
        {
          "output_type": "execute_result",
          "data": {
            "text/html": [
              "<div>\n",
              "<style scoped>\n",
              "    .dataframe tbody tr th:only-of-type {\n",
              "        vertical-align: middle;\n",
              "    }\n",
              "\n",
              "    .dataframe tbody tr th {\n",
              "        vertical-align: top;\n",
              "    }\n",
              "\n",
              "    .dataframe thead th {\n",
              "        text-align: right;\n",
              "    }\n",
              "</style>\n",
              "<table border=\"1\" class=\"dataframe\">\n",
              "  <thead>\n",
              "    <tr style=\"text-align: right;\">\n",
              "      <th></th>\n",
              "      <th>Date</th>\n",
              "      <th>Open</th>\n",
              "      <th>High</th>\n",
              "      <th>Low</th>\n",
              "      <th>Last</th>\n",
              "      <th>Change</th>\n",
              "      <th>Settle</th>\n",
              "      <th>Volume</th>\n",
              "      <th>Previous Day Open Interest</th>\n",
              "    </tr>\n",
              "  </thead>\n",
              "  <tbody>\n",
              "    <tr>\n",
              "      <th>0</th>\n",
              "      <td>2/2/2018</td>\n",
              "      <td>481.1</td>\n",
              "      <td>485.1</td>\n",
              "      <td>477.4</td>\n",
              "      <td>485.1</td>\n",
              "      <td>8.6</td>\n",
              "      <td>483.7</td>\n",
              "      <td>635</td>\n",
              "      <td>5519</td>\n",
              "    </tr>\n",
              "    <tr>\n",
              "      <th>1</th>\n",
              "      <td>2/1/2018</td>\n",
              "      <td>474.2</td>\n",
              "      <td>479.9</td>\n",
              "      <td>472.9</td>\n",
              "      <td>477.8</td>\n",
              "      <td>4.2</td>\n",
              "      <td>475.1</td>\n",
              "      <td>430</td>\n",
              "      <td>5513</td>\n",
              "    </tr>\n",
              "    <tr>\n",
              "      <th>2</th>\n",
              "      <td>1/31/2018</td>\n",
              "      <td>468.1</td>\n",
              "      <td>477.8</td>\n",
              "      <td>468.0</td>\n",
              "      <td>473.2</td>\n",
              "      <td>3.1</td>\n",
              "      <td>470.9</td>\n",
              "      <td>560</td>\n",
              "      <td>5628</td>\n",
              "    </tr>\n",
              "    <tr>\n",
              "      <th>3</th>\n",
              "      <td>1/30/2018</td>\n",
              "      <td>472.3</td>\n",
              "      <td>474.0</td>\n",
              "      <td>467.8</td>\n",
              "      <td>467.8</td>\n",
              "      <td>10.0</td>\n",
              "      <td>467.8</td>\n",
              "      <td>737</td>\n",
              "      <td>5770</td>\n",
              "    </tr>\n",
              "    <tr>\n",
              "      <th>4</th>\n",
              "      <td>1/29/2018</td>\n",
              "      <td>489.9</td>\n",
              "      <td>489.9</td>\n",
              "      <td>477.3</td>\n",
              "      <td>477.3</td>\n",
              "      <td>9.5</td>\n",
              "      <td>477.8</td>\n",
              "      <td>423</td>\n",
              "      <td>5784</td>\n",
              "    </tr>\n",
              "    <tr>\n",
              "      <th>...</th>\n",
              "      <td>...</td>\n",
              "      <td>...</td>\n",
              "      <td>...</td>\n",
              "      <td>...</td>\n",
              "      <td>...</td>\n",
              "      <td>...</td>\n",
              "      <td>...</td>\n",
              "      <td>...</td>\n",
              "      <td>...</td>\n",
              "    </tr>\n",
              "    <tr>\n",
              "      <th>11373</th>\n",
              "      <td>11/27/1972</td>\n",
              "      <td>127.1</td>\n",
              "      <td>127.1</td>\n",
              "      <td>127.1</td>\n",
              "      <td>127.1</td>\n",
              "      <td>NaN</td>\n",
              "      <td>127.1</td>\n",
              "      <td>0</td>\n",
              "      <td>1</td>\n",
              "    </tr>\n",
              "    <tr>\n",
              "      <th>11374</th>\n",
              "      <td>11/21/1972</td>\n",
              "      <td>127.0</td>\n",
              "      <td>127.0</td>\n",
              "      <td>127.0</td>\n",
              "      <td>127.0</td>\n",
              "      <td>NaN</td>\n",
              "      <td>127.0</td>\n",
              "      <td>0</td>\n",
              "      <td>1</td>\n",
              "    </tr>\n",
              "    <tr>\n",
              "      <th>11375</th>\n",
              "      <td>11/20/1972</td>\n",
              "      <td>128.4</td>\n",
              "      <td>128.4</td>\n",
              "      <td>128.4</td>\n",
              "      <td>128.4</td>\n",
              "      <td>NaN</td>\n",
              "      <td>128.4</td>\n",
              "      <td>0</td>\n",
              "      <td>1</td>\n",
              "    </tr>\n",
              "    <tr>\n",
              "      <th>11376</th>\n",
              "      <td>11/17/1972</td>\n",
              "      <td>128.4</td>\n",
              "      <td>128.4</td>\n",
              "      <td>128.4</td>\n",
              "      <td>128.4</td>\n",
              "      <td>NaN</td>\n",
              "      <td>128.4</td>\n",
              "      <td>0</td>\n",
              "      <td>1</td>\n",
              "    </tr>\n",
              "    <tr>\n",
              "      <th>11377</th>\n",
              "      <td>11/16/1972</td>\n",
              "      <td>128.4</td>\n",
              "      <td>128.4</td>\n",
              "      <td>128.4</td>\n",
              "      <td>128.4</td>\n",
              "      <td>NaN</td>\n",
              "      <td>128.4</td>\n",
              "      <td>1</td>\n",
              "      <td>1</td>\n",
              "    </tr>\n",
              "  </tbody>\n",
              "</table>\n",
              "<p>11378 rows × 9 columns</p>\n",
              "</div>"
            ],
            "text/plain": [
              "             Date   Open   High  ...  Settle  Volume  Previous Day Open Interest\n",
              "0        2/2/2018  481.1  485.1  ...   483.7     635                        5519\n",
              "1        2/1/2018  474.2  479.9  ...   475.1     430                        5513\n",
              "2       1/31/2018  468.1  477.8  ...   470.9     560                        5628\n",
              "3       1/30/2018  472.3  474.0  ...   467.8     737                        5770\n",
              "4       1/29/2018  489.9  489.9  ...   477.8     423                        5784\n",
              "...           ...    ...    ...  ...     ...     ...                         ...\n",
              "11373  11/27/1972  127.1  127.1  ...   127.1       0                           1\n",
              "11374  11/21/1972  127.0  127.0  ...   127.0       0                           1\n",
              "11375  11/20/1972  128.4  128.4  ...   128.4       0                           1\n",
              "11376  11/17/1972  128.4  128.4  ...   128.4       0                           1\n",
              "11377  11/16/1972  128.4  128.4  ...   128.4       1                           1\n",
              "\n",
              "[11378 rows x 9 columns]"
            ]
          },
          "metadata": {
            "tags": []
          },
          "execution_count": 3
        }
      ]
    },
    {
      "cell_type": "code",
      "metadata": {
        "colab": {
          "base_uri": "https://localhost:8080/",
          "height": 419
        },
        "id": "EhiHiVl6_9IX",
        "outputId": "5f561593-ae59-4ac4-de06-10cd7582c4fe"
      },
      "source": [
        "#converting data time to pandas date time format\n",
        "df['Date'] = pd.to_datetime(df['Date'])\n",
        "\n",
        "#chronologically sorting the rows of the data starting from the year 1972-11-16 till 2018-02-02\n",
        "df = df.sort_values(by=['Date'])\n",
        "\n",
        "#reset the index and drop the existing index instead of adding it as an additional column in the dataframe\n",
        "df = df.reset_index(drop=True)\n",
        "\n",
        "df\n"
      ],
      "execution_count": null,
      "outputs": [
        {
          "output_type": "execute_result",
          "data": {
            "text/html": [
              "<div>\n",
              "<style scoped>\n",
              "    .dataframe tbody tr th:only-of-type {\n",
              "        vertical-align: middle;\n",
              "    }\n",
              "\n",
              "    .dataframe tbody tr th {\n",
              "        vertical-align: top;\n",
              "    }\n",
              "\n",
              "    .dataframe thead th {\n",
              "        text-align: right;\n",
              "    }\n",
              "</style>\n",
              "<table border=\"1\" class=\"dataframe\">\n",
              "  <thead>\n",
              "    <tr style=\"text-align: right;\">\n",
              "      <th></th>\n",
              "      <th>Date</th>\n",
              "      <th>Open</th>\n",
              "      <th>High</th>\n",
              "      <th>Low</th>\n",
              "      <th>Last</th>\n",
              "      <th>Change</th>\n",
              "      <th>Settle</th>\n",
              "      <th>Volume</th>\n",
              "      <th>Previous Day Open Interest</th>\n",
              "    </tr>\n",
              "  </thead>\n",
              "  <tbody>\n",
              "    <tr>\n",
              "      <th>0</th>\n",
              "      <td>1972-11-16</td>\n",
              "      <td>128.4</td>\n",
              "      <td>128.4</td>\n",
              "      <td>128.4</td>\n",
              "      <td>128.4</td>\n",
              "      <td>NaN</td>\n",
              "      <td>128.4</td>\n",
              "      <td>1</td>\n",
              "      <td>1</td>\n",
              "    </tr>\n",
              "    <tr>\n",
              "      <th>1</th>\n",
              "      <td>1972-11-17</td>\n",
              "      <td>128.4</td>\n",
              "      <td>128.4</td>\n",
              "      <td>128.4</td>\n",
              "      <td>128.4</td>\n",
              "      <td>NaN</td>\n",
              "      <td>128.4</td>\n",
              "      <td>0</td>\n",
              "      <td>1</td>\n",
              "    </tr>\n",
              "    <tr>\n",
              "      <th>2</th>\n",
              "      <td>1972-11-20</td>\n",
              "      <td>128.4</td>\n",
              "      <td>128.4</td>\n",
              "      <td>128.4</td>\n",
              "      <td>128.4</td>\n",
              "      <td>NaN</td>\n",
              "      <td>128.4</td>\n",
              "      <td>0</td>\n",
              "      <td>1</td>\n",
              "    </tr>\n",
              "    <tr>\n",
              "      <th>3</th>\n",
              "      <td>1972-11-21</td>\n",
              "      <td>127.0</td>\n",
              "      <td>127.0</td>\n",
              "      <td>127.0</td>\n",
              "      <td>127.0</td>\n",
              "      <td>NaN</td>\n",
              "      <td>127.0</td>\n",
              "      <td>0</td>\n",
              "      <td>1</td>\n",
              "    </tr>\n",
              "    <tr>\n",
              "      <th>4</th>\n",
              "      <td>1972-11-27</td>\n",
              "      <td>127.1</td>\n",
              "      <td>127.1</td>\n",
              "      <td>127.1</td>\n",
              "      <td>127.1</td>\n",
              "      <td>NaN</td>\n",
              "      <td>127.1</td>\n",
              "      <td>0</td>\n",
              "      <td>1</td>\n",
              "    </tr>\n",
              "    <tr>\n",
              "      <th>...</th>\n",
              "      <td>...</td>\n",
              "      <td>...</td>\n",
              "      <td>...</td>\n",
              "      <td>...</td>\n",
              "      <td>...</td>\n",
              "      <td>...</td>\n",
              "      <td>...</td>\n",
              "      <td>...</td>\n",
              "      <td>...</td>\n",
              "    </tr>\n",
              "    <tr>\n",
              "      <th>11373</th>\n",
              "      <td>2018-01-29</td>\n",
              "      <td>489.9</td>\n",
              "      <td>489.9</td>\n",
              "      <td>477.3</td>\n",
              "      <td>477.3</td>\n",
              "      <td>9.5</td>\n",
              "      <td>477.8</td>\n",
              "      <td>423</td>\n",
              "      <td>5784</td>\n",
              "    </tr>\n",
              "    <tr>\n",
              "      <th>11374</th>\n",
              "      <td>2018-01-30</td>\n",
              "      <td>472.3</td>\n",
              "      <td>474.0</td>\n",
              "      <td>467.8</td>\n",
              "      <td>467.8</td>\n",
              "      <td>10.0</td>\n",
              "      <td>467.8</td>\n",
              "      <td>737</td>\n",
              "      <td>5770</td>\n",
              "    </tr>\n",
              "    <tr>\n",
              "      <th>11375</th>\n",
              "      <td>2018-01-31</td>\n",
              "      <td>468.1</td>\n",
              "      <td>477.8</td>\n",
              "      <td>468.0</td>\n",
              "      <td>473.2</td>\n",
              "      <td>3.1</td>\n",
              "      <td>470.9</td>\n",
              "      <td>560</td>\n",
              "      <td>5628</td>\n",
              "    </tr>\n",
              "    <tr>\n",
              "      <th>11376</th>\n",
              "      <td>2018-02-01</td>\n",
              "      <td>474.2</td>\n",
              "      <td>479.9</td>\n",
              "      <td>472.9</td>\n",
              "      <td>477.8</td>\n",
              "      <td>4.2</td>\n",
              "      <td>475.1</td>\n",
              "      <td>430</td>\n",
              "      <td>5513</td>\n",
              "    </tr>\n",
              "    <tr>\n",
              "      <th>11377</th>\n",
              "      <td>2018-02-02</td>\n",
              "      <td>481.1</td>\n",
              "      <td>485.1</td>\n",
              "      <td>477.4</td>\n",
              "      <td>485.1</td>\n",
              "      <td>8.6</td>\n",
              "      <td>483.7</td>\n",
              "      <td>635</td>\n",
              "      <td>5519</td>\n",
              "    </tr>\n",
              "  </tbody>\n",
              "</table>\n",
              "<p>11378 rows × 9 columns</p>\n",
              "</div>"
            ],
            "text/plain": [
              "            Date   Open   High  ...  Settle  Volume  Previous Day Open Interest\n",
              "0     1972-11-16  128.4  128.4  ...   128.4       1                           1\n",
              "1     1972-11-17  128.4  128.4  ...   128.4       0                           1\n",
              "2     1972-11-20  128.4  128.4  ...   128.4       0                           1\n",
              "3     1972-11-21  127.0  127.0  ...   127.0       0                           1\n",
              "4     1972-11-27  127.1  127.1  ...   127.1       0                           1\n",
              "...          ...    ...    ...  ...     ...     ...                         ...\n",
              "11373 2018-01-29  489.9  489.9  ...   477.8     423                        5784\n",
              "11374 2018-01-30  472.3  474.0  ...   467.8     737                        5770\n",
              "11375 2018-01-31  468.1  477.8  ...   470.9     560                        5628\n",
              "11376 2018-02-01  474.2  479.9  ...   475.1     430                        5513\n",
              "11377 2018-02-02  481.1  485.1  ...   483.7     635                        5519\n",
              "\n",
              "[11378 rows x 9 columns]"
            ]
          },
          "metadata": {
            "tags": []
          },
          "execution_count": 6
        }
      ]
    },
    {
      "cell_type": "code",
      "metadata": {
        "colab": {
          "base_uri": "https://localhost:8080/",
          "height": 513
        },
        "id": "BjAmObb7AtJo",
        "outputId": "08426521-542b-4914-dc53-593e08e95dba"
      },
      "source": [
        "#Visualize the closing price data, here 'Last' column header\n",
        "plt.figure(figsize=(16,8))\n",
        "plt.title('Stock Pricing')\n",
        "plt.xlabel('Days')\n",
        "plt.ylabel('Closing price')\n",
        "plt.plot(df['Last'])\n",
        "plt.show()"
      ],
      "execution_count": null,
      "outputs": [
        {
          "output_type": "display_data",
          "data": {
            "image/png": "[encoded data removed]",
            "text/plain": [
              "<Figure size 1152x576 with 1 Axes>"
            ]
          },
          "metadata": {
            "tags": [],
            "needs_background": "light"
          }
        }
      ]
    },
    {
      "cell_type": "code",
      "metadata": {
        "colab": {
          "base_uri": "https://localhost:8080/"
        },
        "id": "1tr7M8GLBPOA",
        "outputId": "e517531f-fd3c-444c-f935-3c7754a35558"
      },
      "source": [
        "#Create a new dataframe with only the Last column\n",
        "data = df.filter(['Last'])\n",
        "#Convert the dataframe to a numpy array\n",
        "dataset = data.values\n",
        "#Get the number of rows to train on\n",
        "training_data_len = math.ceil(len(dataset)* 0.7)\n",
        "\n",
        "training_data_len"
      ],
      "execution_count": null,
      "outputs": [
        {
          "output_type": "execute_result",
          "data": {
            "text/plain": [
              "7965"
            ]
          },
          "metadata": {
            "tags": []
          },
          "execution_count": 10
        }
      ]
    },
    {
      "cell_type": "code",
      "metadata": {
        "colab": {
          "base_uri": "https://localhost:8080/"
        },
        "id": "f2JRYmvRFXeV",
        "outputId": "3d8d196b-ab76-423a-9069-f2e9fd4d67f6"
      },
      "source": [
        "#scale the data\n",
        "scaler = MinMaxScaler(feature_range=(0,1))\n",
        "scaled_data = scaler.fit_transform(dataset)\n",
        "\n",
        "scaled_data"
      ],
      "execution_count": null,
      "outputs": [
        {
          "output_type": "execute_result",
          "data": {
            "text/plain": [
              "array([[0.07878489],\n",
              "       [0.07878489],\n",
              "       [0.07878489],\n",
              "       ...,\n",
              "       [0.93035317],\n",
              "       [0.941714  ],\n",
              "       [0.95974315]])"
            ]
          },
          "metadata": {
            "tags": []
          },
          "execution_count": 11
        }
      ]
    },
    {
      "cell_type": "code",
      "metadata": {
        "colab": {
          "base_uri": "https://localhost:8080/"
        },
        "id": "Wbe8hZm0F1eU",
        "outputId": "273f0eba-159c-4a93-e2c0-d8de206cf113"
      },
      "source": [
        "#create the training data set\n",
        "#create the scaled training data set\n",
        "train_data = scaled_data[0:training_data_len, :]\n",
        "#split the data into x_train and y_train\n",
        "x_train = []\n",
        "y_train = []\n",
        "timestep =100\n",
        "for i in range(timestep, len(train_data)):\n",
        "  x_train.append(train_data[i-timestep:i, 0])\n",
        "  y_train.append(train_data[i,0])\n",
        "\n",
        "  # if i<=101:\n",
        "  #   print(x_train)\n",
        "  #   print(y_train)\n",
        "  #   print()\n",
        "#len(x_train)"
      ],
      "execution_count": null,
      "outputs": [
        {
          "output_type": "execute_result",
          "data": {
            "text/plain": [
              "7865"
            ]
          },
          "metadata": {
            "tags": []
          },
          "execution_count": 19
        }
      ]
    },
    {
      "cell_type": "code",
      "metadata": {
        "id": "sTfCGDZAHEHl",
        "colab": {
          "base_uri": "https://localhost:8080/"
        },
        "outputId": "4c91a45e-575a-4f90-a241-169e07eaec6b"
      },
      "source": [
        "#convert the x_train and y_train to numpy arrays\n",
        "x_train, y_train = np.array(x_train), np.array(y_train)\n",
        "print(x_train)\n",
        "x_train.shape\n"
      ],
      "execution_count": null,
      "outputs": [
        {
          "output_type": "stream",
          "text": [
            "[[0.07878489 0.07878489 0.07878489 ... 0.14941961 0.15065448 0.15312423]\n",
            " [0.07878489 0.07878489 0.07532724 ... 0.15065448 0.15312423 0.16176834]\n",
            " [0.07878489 0.07532724 0.07557422 ... 0.15312423 0.16176834 0.15312423]\n",
            " ...\n",
            " [0.58952828 0.58755248 0.58779946 ... 0.70535935 0.69548037 0.70091381]\n",
            " [0.58755248 0.58779946 0.58409484 ... 0.69548037 0.70091381 0.7028896 ]\n",
            " [0.58779946 0.58409484 0.58804643 ... 0.70091381 0.7028896  0.69646826]]\n"
          ],
          "name": "stdout"
        },
        {
          "output_type": "execute_result",
          "data": {
            "text/plain": [
              "(7865, 100)"
            ]
          },
          "metadata": {
            "tags": []
          },
          "execution_count": 20
        }
      ]
    },
    {
      "cell_type": "code",
      "metadata": {
        "colab": {
          "base_uri": "https://localhost:8080/"
        },
        "id": "HKgdHHFoHQdE",
        "outputId": "e09d390e-f1e5-4e2c-e435-20ca1345e8c9"
      },
      "source": [
        "#reshape the data\n",
        "x_train = np.reshape(x_train,(x_train.shape[0], x_train.shape[1], 1))\n",
        "x_train.shape\n"
      ],
      "execution_count": null,
      "outputs": [
        {
          "output_type": "execute_result",
          "data": {
            "text/plain": [
              "(7865, 100, 1)"
            ]
          },
          "metadata": {
            "tags": []
          },
          "execution_count": 21
        }
      ]
    },
    {
      "cell_type": "code",
      "metadata": {
        "id": "Z9N9p4OHIQRb"
      },
      "source": [
        "#build the LSTM model\n",
        "model = Sequential()\n",
        "model.add(LSTM(50, return_sequences=True, input_shape=(x_train.shape[1],1)))\n",
        "model.add(LSTM(50, return_sequences=True))\n",
        "model.add(LSTM(50))\n",
        "model.add(Dense(25))\n",
        "model.add(Dense(1))\n"
      ],
      "execution_count": null,
      "outputs": []
    },
    {
      "cell_type": "code",
      "metadata": {
        "id": "ya7p3ouyI4sU"
      },
      "source": [
        "#Compile model\n",
        "model.compile(optimizer='adam', loss='mean_squared_error')\n"
      ],
      "execution_count": null,
      "outputs": []
    },
    {
      "cell_type": "code",
      "metadata": {
        "colab": {
          "base_uri": "https://localhost:8080/"
        },
        "id": "mQeSlmb2JIX1",
        "outputId": "56262e72-d8d5-4951-800a-09b807da1e41"
      },
      "source": [
        "#Train the model\n",
        "model.fit(x_train, y_train, batch_size=64, epochs=100)"
      ],
      "execution_count": null,
      "outputs": [
        {
          "output_type": "stream",
          "text": [
            "Epoch 1/100\n",
            "123/123 [==============================] - 25s 164ms/step - loss: 0.0125\n",
            "Epoch 2/100\n",
            "123/123 [==============================] - 20s 163ms/step - loss: 0.0013\n",
            "Epoch 3/100\n",
            "123/123 [==============================] - 20s 163ms/step - loss: 9.8604e-04\n",
            "Epoch 4/100\n",
            "123/123 [==============================] - 20s 165ms/step - loss: 8.6398e-04\n",
            "Epoch 5/100\n",
            "123/123 [==============================] - 20s 165ms/step - loss: 8.2459e-04\n",
            "Epoch 6/100\n",
            "123/123 [==============================] - 20s 164ms/step - loss: 6.7067e-04\n",
            "Epoch 7/100\n",
            "123/123 [==============================] - 20s 164ms/step - loss: 6.2096e-04\n",
            "Epoch 8/100\n",
            "123/123 [==============================] - 20s 164ms/step - loss: 5.3261e-04\n",
            "Epoch 9/100\n",
            "123/123 [==============================] - 20s 165ms/step - loss: 5.2144e-04\n",
            "Epoch 10/100\n",
            "123/123 [==============================] - 20s 165ms/step - loss: 4.2000e-04\n",
            "Epoch 11/100\n",
            "123/123 [==============================] - 20s 164ms/step - loss: 3.7659e-04\n",
            "Epoch 12/100\n",
            "123/123 [==============================] - 20s 165ms/step - loss: 3.5883e-04\n",
            "Epoch 13/100\n",
            "123/123 [==============================] - 20s 165ms/step - loss: 2.9994e-04\n",
            "Epoch 14/100\n",
            "123/123 [==============================] - 20s 164ms/step - loss: 2.8866e-04\n",
            "Epoch 15/100\n",
            "123/123 [==============================] - 20s 164ms/step - loss: 3.1438e-04\n",
            "Epoch 16/100\n",
            "123/123 [==============================] - 20s 164ms/step - loss: 2.5233e-04\n",
            "Epoch 17/100\n",
            "123/123 [==============================] - 20s 164ms/step - loss: 2.2404e-04\n",
            "Epoch 18/100\n",
            "123/123 [==============================] - 20s 162ms/step - loss: 2.3172e-04\n",
            "Epoch 19/100\n",
            "123/123 [==============================] - 20s 162ms/step - loss: 2.4559e-04\n",
            "Epoch 20/100\n",
            "123/123 [==============================] - 20s 162ms/step - loss: 2.1328e-04\n",
            "Epoch 21/100\n",
            "123/123 [==============================] - 20s 161ms/step - loss: 2.1785e-04\n",
            "Epoch 22/100\n",
            "123/123 [==============================] - 20s 162ms/step - loss: 2.6274e-04\n",
            "Epoch 23/100\n",
            "123/123 [==============================] - 20s 163ms/step - loss: 2.2215e-04\n",
            "Epoch 24/100\n",
            "123/123 [==============================] - 20s 162ms/step - loss: 2.2026e-04\n",
            "Epoch 25/100\n",
            "123/123 [==============================] - 20s 162ms/step - loss: 2.4842e-04\n",
            "Epoch 26/100\n",
            "123/123 [==============================] - 20s 162ms/step - loss: 2.0201e-04\n",
            "Epoch 27/100\n",
            "123/123 [==============================] - 20s 163ms/step - loss: 1.9502e-04\n",
            "Epoch 28/100\n",
            "123/123 [==============================] - 20s 163ms/step - loss: 2.0353e-04\n",
            "Epoch 29/100\n",
            "123/123 [==============================] - 20s 163ms/step - loss: 2.0555e-04\n",
            "Epoch 30/100\n",
            "123/123 [==============================] - 20s 163ms/step - loss: 1.8279e-04\n",
            "Epoch 31/100\n",
            "123/123 [==============================] - 20s 162ms/step - loss: 1.7978e-04\n",
            "Epoch 32/100\n",
            "123/123 [==============================] - 20s 161ms/step - loss: 2.1269e-04\n",
            "Epoch 33/100\n",
            "123/123 [==============================] - 20s 162ms/step - loss: 1.8616e-04\n",
            "Epoch 34/100\n",
            "123/123 [==============================] - 20s 163ms/step - loss: 2.0095e-04\n",
            "Epoch 35/100\n",
            "123/123 [==============================] - 20s 163ms/step - loss: 1.9458e-04\n",
            "Epoch 36/100\n",
            "123/123 [==============================] - 20s 163ms/step - loss: 1.9773e-04\n",
            "Epoch 37/100\n",
            "123/123 [==============================] - 20s 162ms/step - loss: 2.0639e-04\n",
            "Epoch 38/100\n",
            "123/123 [==============================] - 20s 162ms/step - loss: 2.2088e-04\n",
            "Epoch 39/100\n",
            "123/123 [==============================] - 20s 163ms/step - loss: 2.0907e-04\n",
            "Epoch 40/100\n",
            "123/123 [==============================] - 20s 164ms/step - loss: 1.9084e-04\n",
            "Epoch 41/100\n",
            "123/123 [==============================] - 21s 167ms/step - loss: 2.0055e-04\n",
            "Epoch 42/100\n",
            "123/123 [==============================] - 21s 167ms/step - loss: 1.7667e-04\n",
            "Epoch 43/100\n",
            "123/123 [==============================] - 20s 162ms/step - loss: 1.8426e-04\n",
            "Epoch 44/100\n",
            "123/123 [==============================] - 20s 163ms/step - loss: 2.0773e-04\n",
            "Epoch 45/100\n",
            "123/123 [==============================] - 20s 163ms/step - loss: 1.8097e-04\n",
            "Epoch 46/100\n",
            "123/123 [==============================] - 20s 163ms/step - loss: 2.1977e-04\n",
            "Epoch 47/100\n",
            "123/123 [==============================] - 20s 161ms/step - loss: 2.0166e-04\n",
            "Epoch 48/100\n",
            "123/123 [==============================] - 20s 163ms/step - loss: 2.0944e-04\n",
            "Epoch 49/100\n",
            "123/123 [==============================] - 20s 163ms/step - loss: 1.8076e-04\n",
            "Epoch 50/100\n",
            "123/123 [==============================] - 20s 164ms/step - loss: 1.8873e-04\n",
            "Epoch 51/100\n",
            "123/123 [==============================] - 20s 162ms/step - loss: 2.1354e-04\n",
            "Epoch 52/100\n",
            "123/123 [==============================] - 20s 163ms/step - loss: 1.9584e-04\n",
            "Epoch 53/100\n",
            "123/123 [==============================] - 20s 163ms/step - loss: 1.8684e-04\n",
            "Epoch 54/100\n",
            "123/123 [==============================] - 20s 161ms/step - loss: 1.9009e-04\n",
            "Epoch 55/100\n",
            "123/123 [==============================] - 20s 161ms/step - loss: 2.0522e-04\n",
            "Epoch 56/100\n",
            "123/123 [==============================] - 20s 161ms/step - loss: 1.7755e-04\n",
            "Epoch 57/100\n",
            "123/123 [==============================] - 20s 161ms/step - loss: 1.9087e-04\n",
            "Epoch 58/100\n",
            "123/123 [==============================] - 20s 163ms/step - loss: 2.2339e-04\n",
            "Epoch 59/100\n",
            "123/123 [==============================] - 20s 163ms/step - loss: 2.1933e-04\n",
            "Epoch 60/100\n",
            "123/123 [==============================] - 20s 162ms/step - loss: 1.8380e-04\n",
            "Epoch 61/100\n",
            "123/123 [==============================] - 20s 162ms/step - loss: 1.8100e-04\n",
            "Epoch 62/100\n",
            "123/123 [==============================] - 20s 162ms/step - loss: 1.8690e-04\n",
            "Epoch 63/100\n",
            "123/123 [==============================] - 20s 162ms/step - loss: 1.7627e-04\n",
            "Epoch 64/100\n",
            "123/123 [==============================] - 20s 162ms/step - loss: 1.7691e-04\n",
            "Epoch 65/100\n",
            "123/123 [==============================] - 20s 162ms/step - loss: 1.8540e-04\n",
            "Epoch 66/100\n",
            "123/123 [==============================] - 20s 162ms/step - loss: 1.9709e-04\n",
            "Epoch 67/100\n",
            "123/123 [==============================] - 20s 162ms/step - loss: 1.7769e-04\n",
            "Epoch 68/100\n",
            "123/123 [==============================] - 20s 162ms/step - loss: 1.8026e-04\n",
            "Epoch 69/100\n",
            "123/123 [==============================] - 20s 161ms/step - loss: 1.9322e-04\n",
            "Epoch 70/100\n",
            "123/123 [==============================] - 20s 162ms/step - loss: 1.8878e-04\n",
            "Epoch 71/100\n",
            "123/123 [==============================] - 20s 163ms/step - loss: 1.7987e-04\n",
            "Epoch 72/100\n",
            "123/123 [==============================] - 20s 162ms/step - loss: 1.7897e-04\n",
            "Epoch 73/100\n",
            "123/123 [==============================] - 20s 163ms/step - loss: 1.9949e-04\n",
            "Epoch 74/100\n",
            "123/123 [==============================] - 20s 164ms/step - loss: 1.8162e-04\n",
            "Epoch 75/100\n",
            "123/123 [==============================] - 20s 164ms/step - loss: 1.7845e-04\n",
            "Epoch 76/100\n",
            "123/123 [==============================] - 20s 164ms/step - loss: 1.8869e-04\n",
            "Epoch 77/100\n",
            "123/123 [==============================] - 20s 164ms/step - loss: 1.8038e-04\n",
            "Epoch 78/100\n",
            "123/123 [==============================] - 20s 163ms/step - loss: 1.8460e-04\n",
            "Epoch 79/100\n",
            "123/123 [==============================] - 20s 164ms/step - loss: 2.1028e-04\n",
            "Epoch 80/100\n",
            "123/123 [==============================] - 20s 164ms/step - loss: 1.8599e-04\n",
            "Epoch 81/100\n",
            "123/123 [==============================] - 20s 164ms/step - loss: 1.9127e-04\n",
            "Epoch 82/100\n",
            "123/123 [==============================] - 20s 164ms/step - loss: 1.7475e-04\n",
            "Epoch 83/100\n",
            "123/123 [==============================] - 20s 163ms/step - loss: 1.8043e-04\n",
            "Epoch 84/100\n",
            "123/123 [==============================] - 20s 164ms/step - loss: 1.9141e-04\n",
            "Epoch 85/100\n",
            "123/123 [==============================] - 20s 164ms/step - loss: 1.9969e-04\n",
            "Epoch 86/100\n",
            "123/123 [==============================] - 20s 163ms/step - loss: 1.8518e-04\n",
            "Epoch 87/100\n",
            "123/123 [==============================] - 20s 164ms/step - loss: 1.7677e-04\n",
            "Epoch 88/100\n",
            "123/123 [==============================] - 20s 164ms/step - loss: 1.8860e-04\n",
            "Epoch 89/100\n",
            "123/123 [==============================] - 20s 162ms/step - loss: 1.8660e-04\n",
            "Epoch 90/100\n",
            "123/123 [==============================] - 20s 162ms/step - loss: 1.6892e-04\n",
            "Epoch 91/100\n",
            "123/123 [==============================] - 20s 162ms/step - loss: 2.1683e-04\n",
            "Epoch 92/100\n",
            "123/123 [==============================] - 20s 162ms/step - loss: 1.7652e-04\n",
            "Epoch 93/100\n",
            "123/123 [==============================] - 20s 164ms/step - loss: 1.8319e-04\n",
            "Epoch 94/100\n",
            "123/123 [==============================] - 20s 164ms/step - loss: 1.8887e-04\n",
            "Epoch 95/100\n",
            "123/123 [==============================] - 20s 164ms/step - loss: 2.0394e-04\n",
            "Epoch 96/100\n",
            "123/123 [==============================] - 20s 164ms/step - loss: 1.9440e-04\n",
            "Epoch 97/100\n",
            "123/123 [==============================] - 20s 164ms/step - loss: 1.9767e-04\n",
            "Epoch 98/100\n",
            "123/123 [==============================] - 20s 163ms/step - loss: 1.6617e-04\n",
            "Epoch 99/100\n",
            "123/123 [==============================] - 20s 164ms/step - loss: 1.8108e-04\n",
            "Epoch 100/100\n",
            "123/123 [==============================] - 20s 164ms/step - loss: 2.1548e-04\n"
          ],
          "name": "stdout"
        },
        {
          "output_type": "execute_result",
          "data": {
            "text/plain": [
              "<tensorflow.python.keras.callbacks.History at 0x7f59dd9ab850>"
            ]
          },
          "metadata": {
            "tags": []
          },
          "execution_count": 24
        }
      ]
    },
    {
      "cell_type": "code",
      "metadata": {
        "id": "yI1rMISkeUYk"
      },
      "source": [
        "#Create testing data set\n",
        "#create a new array containing scaled values from \n",
        "test_data = scaled_data[training_data_len - timestep: , :]\n",
        "\n",
        "#Create data sets x_test, y_test\n",
        "x_test=[]\n",
        "y_test=dataset[training_data_len: , :]\n",
        "\n",
        "for i in range(timestep, len(test_data)):\n",
        "    x_test.append(test_data[i-timestep:i, 0])\n",
        "    #y_test.append(test_data[i,0])\n",
        "    \n",
        "    #if i<=60:\n",
        "       # print(x_test)\n",
        "      #  print(y_test)"
      ],
      "execution_count": null,
      "outputs": []
    },
    {
      "cell_type": "code",
      "metadata": {
        "colab": {
          "base_uri": "https://localhost:8080/"
        },
        "id": "VFzHR5mxeetp",
        "outputId": "f80a0b93-cde2-4a58-ffc7-59faf881e6c6"
      },
      "source": [
        "#convert x_test to numpy array\n",
        "x_test = np.array(x_test)\n",
        "#x_test, y_test = np.array(x_test), np.array(y_test)\n",
        "x_test.shape\n"
      ],
      "execution_count": null,
      "outputs": [
        {
          "output_type": "execute_result",
          "data": {
            "text/plain": [
              "(3413, 100)"
            ]
          },
          "metadata": {
            "tags": []
          },
          "execution_count": 26
        }
      ]
    },
    {
      "cell_type": "code",
      "metadata": {
        "id": "z_KwQGTNem0c"
      },
      "source": [
        "#Reshape the data\n",
        "x_test = np.reshape(x_test, (x_test.shape[0], x_test.shape[1], 1))\n"
      ],
      "execution_count": null,
      "outputs": []
    },
    {
      "cell_type": "code",
      "metadata": {
        "colab": {
          "base_uri": "https://localhost:8080/"
        },
        "id": "0gHZy6Hmepj-",
        "outputId": "93f69a74-c8ba-4fc2-c555-798bae7256ef"
      },
      "source": [
        "#Get the models predictions on test data\n",
        "predictions = model.predict(x_test)\n",
        "predictions = scaler.inverse_transform(predictions)\n",
        "print(predictions.shape)\n",
        "print(predictions)\n"
      ],
      "execution_count": null,
      "outputs": [
        {
          "output_type": "stream",
          "text": [
            "(3413, 1)\n",
            "[[377.5593 ]\n",
            " [378.02   ]\n",
            " [381.1169 ]\n",
            " ...\n",
            " [460.4755 ]\n",
            " [466.2853 ]\n",
            " [470.16376]]\n"
          ],
          "name": "stdout"
        }
      ]
    },
    {
      "cell_type": "code",
      "metadata": {
        "colab": {
          "base_uri": "https://localhost:8080/"
        },
        "id": "zLtsM9_he2lS",
        "outputId": "76c2cb91-713e-4448-e6b2-227e7de710b6"
      },
      "source": [
        "#Get the root mean squared error\n",
        "#rmse = math.sqrt(mean_squared_error(y_test, predictions))\n",
        "rmse = np.sqrt(np.mean(predictions - y_test)**2)\n",
        "rmse"
      ],
      "execution_count": null,
      "outputs": [
        {
          "output_type": "execute_result",
          "data": {
            "text/plain": [
              "1.8661050371225367"
            ]
          },
          "metadata": {
            "tags": []
          },
          "execution_count": 31
        }
      ]
    },
    {
      "cell_type": "code",
      "metadata": {
        "colab": {
          "base_uri": "https://localhost:8080/",
          "height": 623
        },
        "id": "vJlN6XLrrYVd",
        "outputId": "af26d140-8032-424a-b1ce-9b3b380f683c"
      },
      "source": [
        "#plot data\n",
        "train = data[:training_data_len]\n",
        "#print(train)\n",
        "valid = data[training_data_len:]\n",
        "#print(valid)\n",
        "valid['Predictions'] = predictions\n",
        "\n",
        "#Visualize the data\n",
        "plt.figure(figsize=(16,8))\n",
        "plt.title('Model')\n",
        "plt.xlabel('Date', fontsize=18)\n",
        "plt.ylabel('Last Price', fontsize=18)\n",
        "plt.plot(train['Last'])\n",
        "plt.plot(valid[['Last', 'Predictions']])\n",
        "plt.legend(['Train', 'Val', 'Predictions'], loc='lower right')\n",
        "plt.show()"
      ],
      "execution_count": null,
      "outputs": [
        {
          "output_type": "stream",
          "text": [
            "/usr/local/lib/python3.7/dist-packages/ipykernel_launcher.py:6: SettingWithCopyWarning: \n",
            "A value is trying to be set on a copy of a slice from a DataFrame.\n",
            "Try using .loc[row_indexer,col_indexer] = value instead\n",
            "\n",
            "See the caveats in the documentation: https://pandas.pydata.org/pandas-docs/stable/user_guide/indexing.html#returning-a-view-versus-a-copy\n",
            "  \n"
          ],
          "name": "stderr"
        },
        {
          "output_type": "display_data",
          "data": {
            "image/png": "[encoded data removed]",
            "text/plain": [
              "<Figure size 1152x576 with 1 Axes>"
            ]
          },
          "metadata": {
            "tags": [],
            "needs_background": "light"
          }
        }
      ]
    },
    {
      "cell_type": "code",
      "metadata": {
        "colab": {
          "base_uri": "https://localhost:8080/",
          "height": 419
        },
        "id": "5wTCKHPHMeoB",
        "outputId": "0cc09310-3c16-40e0-d932-33f12889ec8b"
      },
      "source": [
        "#Show the valid and predicted prices\n",
        "valid"
      ],
      "execution_count": null,
      "outputs": [
        {
          "output_type": "execute_result",
          "data": {
            "text/html": [
              "<div>\n",
              "<style scoped>\n",
              "    .dataframe tbody tr th:only-of-type {\n",
              "        vertical-align: middle;\n",
              "    }\n",
              "\n",
              "    .dataframe tbody tr th {\n",
              "        vertical-align: top;\n",
              "    }\n",
              "\n",
              "    .dataframe thead th {\n",
              "        text-align: right;\n",
              "    }\n",
              "</style>\n",
              "<table border=\"1\" class=\"dataframe\">\n",
              "  <thead>\n",
              "    <tr style=\"text-align: right;\">\n",
              "      <th></th>\n",
              "      <th>Last</th>\n",
              "      <th>Predictions</th>\n",
              "    </tr>\n",
              "  </thead>\n",
              "  <tbody>\n",
              "    <tr>\n",
              "      <th>7965</th>\n",
              "      <td>380.6</td>\n",
              "      <td>377.559296</td>\n",
              "    </tr>\n",
              "    <tr>\n",
              "      <th>7966</th>\n",
              "      <td>383.4</td>\n",
              "      <td>378.019989</td>\n",
              "    </tr>\n",
              "    <tr>\n",
              "      <th>7967</th>\n",
              "      <td>379.6</td>\n",
              "      <td>381.116913</td>\n",
              "    </tr>\n",
              "    <tr>\n",
              "      <th>7968</th>\n",
              "      <td>379.5</td>\n",
              "      <td>376.773956</td>\n",
              "    </tr>\n",
              "    <tr>\n",
              "      <th>7969</th>\n",
              "      <td>376.5</td>\n",
              "      <td>377.276520</td>\n",
              "    </tr>\n",
              "    <tr>\n",
              "      <th>...</th>\n",
              "      <td>...</td>\n",
              "      <td>...</td>\n",
              "    </tr>\n",
              "    <tr>\n",
              "      <th>11373</th>\n",
              "      <td>477.3</td>\n",
              "      <td>479.699036</td>\n",
              "    </tr>\n",
              "    <tr>\n",
              "      <th>11374</th>\n",
              "      <td>467.8</td>\n",
              "      <td>468.973877</td>\n",
              "    </tr>\n",
              "    <tr>\n",
              "      <th>11375</th>\n",
              "      <td>473.2</td>\n",
              "      <td>460.475494</td>\n",
              "    </tr>\n",
              "    <tr>\n",
              "      <th>11376</th>\n",
              "      <td>477.8</td>\n",
              "      <td>466.285309</td>\n",
              "    </tr>\n",
              "    <tr>\n",
              "      <th>11377</th>\n",
              "      <td>485.1</td>\n",
              "      <td>470.163757</td>\n",
              "    </tr>\n",
              "  </tbody>\n",
              "</table>\n",
              "<p>3413 rows × 2 columns</p>\n",
              "</div>"
            ],
            "text/plain": [
              "        Last  Predictions\n",
              "7965   380.6   377.559296\n",
              "7966   383.4   378.019989\n",
              "7967   379.6   381.116913\n",
              "7968   379.5   376.773956\n",
              "7969   376.5   377.276520\n",
              "...      ...          ...\n",
              "11373  477.3   479.699036\n",
              "11374  467.8   468.973877\n",
              "11375  473.2   460.475494\n",
              "11376  477.8   466.285309\n",
              "11377  485.1   470.163757\n",
              "\n",
              "[3413 rows x 2 columns]"
            ]
          },
          "metadata": {
            "tags": []
          },
          "execution_count": 33
        }
      ]
    },
    {
      "cell_type": "code",
      "metadata": {
        "colab": {
          "resources": {
            "http://localhost:8080/nbextensions/google.colab/files.js": {
              "data": "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",
              "ok": true,
              "headers": [
                [
                  "content-type",
                  "application/javascript"
                ]
              ],
              "status": 200,
              "status_text": ""
            }
          },
          "base_uri": "https://localhost:8080/",
          "height": 72
        },
        "id": "9r3OJdGkVoUu",
        "outputId": "4f4c862e-72ea-4f3d-bc0a-ea844597b2d8"
      },
      "source": [
        "#read the data and show it\n",
        "from google.colab import files\n",
        "uploaded =files.upload()\n",
        "#reading the data set into a pandas dataframe\n",
        "df = pd.read_csv(\"Lumber-futures.csv\")"
      ],
      "execution_count": null,
      "outputs": [
        {
          "output_type": "display_data",
          "data": {
            "text/html": [
              "\n",
              "     <input type=\"file\" id=\"files-a0806f56-3a8a-49b9-a896-f58497caf9fa\" name=\"files[]\" multiple disabled\n",
              "        style=\"border:none\" />\n",
              "     <output id=\"result-a0806f56-3a8a-49b9-a896-f58497caf9fa\">\n",
              "      Upload widget is only available when the cell has been executed in the\n",
              "      current browser session. Please rerun this cell to enable.\n",
              "      </output>\n",
              "      <script src=\"/nbextensions/google.colab/files.js\"></script> "
            ],
            "text/plain": [
              "<IPython.core.display.HTML object>"
            ]
          },
          "metadata": {
            "tags": []
          }
        },
        {
          "output_type": "stream",
          "text": [
            "Saving Lumber-futures.csv to Lumber-futures (1).csv\n"
          ],
          "name": "stdout"
        }
      ]
    },
    {
      "cell_type": "code",
      "metadata": {
        "colab": {
          "base_uri": "https://localhost:8080/",
          "height": 419
        },
        "id": "wMQUMuw6VpVZ",
        "outputId": "3e793d3a-2642-46f3-8cc4-8255bcd09aa2"
      },
      "source": [
        "#converting data time to pandas date time format\n",
        "df['Date'] = pd.to_datetime(df['Date'])\n",
        "\n",
        "#chronologically sorting the rows of the data starting from the year 1972-11-16 till 2018-02-02\n",
        "df = df.sort_values(by=['Date'])\n",
        "\n",
        "#reset the index and drop the existing index instead of adding it as an additional column in the dataframe\n",
        "df = df.reset_index(drop=True)\n",
        "\n",
        "df"
      ],
      "execution_count": null,
      "outputs": [
        {
          "output_type": "execute_result",
          "data": {
            "text/html": [
              "<div>\n",
              "<style scoped>\n",
              "    .dataframe tbody tr th:only-of-type {\n",
              "        vertical-align: middle;\n",
              "    }\n",
              "\n",
              "    .dataframe tbody tr th {\n",
              "        vertical-align: top;\n",
              "    }\n",
              "\n",
              "    .dataframe thead th {\n",
              "        text-align: right;\n",
              "    }\n",
              "</style>\n",
              "<table border=\"1\" class=\"dataframe\">\n",
              "  <thead>\n",
              "    <tr style=\"text-align: right;\">\n",
              "      <th></th>\n",
              "      <th>Date</th>\n",
              "      <th>Open</th>\n",
              "      <th>High</th>\n",
              "      <th>Low</th>\n",
              "      <th>Last</th>\n",
              "      <th>Change</th>\n",
              "      <th>Settle</th>\n",
              "      <th>Volume</th>\n",
              "      <th>Previous Day Open Interest</th>\n",
              "    </tr>\n",
              "  </thead>\n",
              "  <tbody>\n",
              "    <tr>\n",
              "      <th>0</th>\n",
              "      <td>1972-11-16</td>\n",
              "      <td>128.4</td>\n",
              "      <td>128.4</td>\n",
              "      <td>128.4</td>\n",
              "      <td>128.4</td>\n",
              "      <td>NaN</td>\n",
              "      <td>128.4</td>\n",
              "      <td>1</td>\n",
              "      <td>1</td>\n",
              "    </tr>\n",
              "    <tr>\n",
              "      <th>1</th>\n",
              "      <td>1972-11-17</td>\n",
              "      <td>128.4</td>\n",
              "      <td>128.4</td>\n",
              "      <td>128.4</td>\n",
              "      <td>128.4</td>\n",
              "      <td>NaN</td>\n",
              "      <td>128.4</td>\n",
              "      <td>0</td>\n",
              "      <td>1</td>\n",
              "    </tr>\n",
              "    <tr>\n",
              "      <th>2</th>\n",
              "      <td>1972-11-20</td>\n",
              "      <td>128.4</td>\n",
              "      <td>128.4</td>\n",
              "      <td>128.4</td>\n",
              "      <td>128.4</td>\n",
              "      <td>NaN</td>\n",
              "      <td>128.4</td>\n",
              "      <td>0</td>\n",
              "      <td>1</td>\n",
              "    </tr>\n",
              "    <tr>\n",
              "      <th>3</th>\n",
              "      <td>1972-11-21</td>\n",
              "      <td>127.0</td>\n",
              "      <td>127.0</td>\n",
              "      <td>127.0</td>\n",
              "      <td>127.0</td>\n",
              "      <td>NaN</td>\n",
              "      <td>127.0</td>\n",
              "      <td>0</td>\n",
              "      <td>1</td>\n",
              "    </tr>\n",
              "    <tr>\n",
              "      <th>4</th>\n",
              "      <td>1972-11-27</td>\n",
              "      <td>127.1</td>\n",
              "      <td>127.1</td>\n",
              "      <td>127.1</td>\n",
              "      <td>127.1</td>\n",
              "      <td>NaN</td>\n",
              "      <td>127.1</td>\n",
              "      <td>0</td>\n",
              "      <td>1</td>\n",
              "    </tr>\n",
              "    <tr>\n",
              "      <th>...</th>\n",
              "      <td>...</td>\n",
              "      <td>...</td>\n",
              "      <td>...</td>\n",
              "      <td>...</td>\n",
              "      <td>...</td>\n",
              "      <td>...</td>\n",
              "      <td>...</td>\n",
              "      <td>...</td>\n",
              "      <td>...</td>\n",
              "    </tr>\n",
              "    <tr>\n",
              "      <th>11373</th>\n",
              "      <td>2018-01-29</td>\n",
              "      <td>489.9</td>\n",
              "      <td>489.9</td>\n",
              "      <td>477.3</td>\n",
              "      <td>477.3</td>\n",
              "      <td>9.5</td>\n",
              "      <td>477.8</td>\n",
              "      <td>423</td>\n",
              "      <td>5784</td>\n",
              "    </tr>\n",
              "    <tr>\n",
              "      <th>11374</th>\n",
              "      <td>2018-01-30</td>\n",
              "      <td>472.3</td>\n",
              "      <td>474.0</td>\n",
              "      <td>467.8</td>\n",
              "      <td>467.8</td>\n",
              "      <td>10.0</td>\n",
              "      <td>467.8</td>\n",
              "      <td>737</td>\n",
              "      <td>5770</td>\n",
              "    </tr>\n",
              "    <tr>\n",
              "      <th>11375</th>\n",
              "      <td>2018-01-31</td>\n",
              "      <td>468.1</td>\n",
              "      <td>477.8</td>\n",
              "      <td>468.0</td>\n",
              "      <td>473.2</td>\n",
              "      <td>3.1</td>\n",
              "      <td>470.9</td>\n",
              "      <td>560</td>\n",
              "      <td>5628</td>\n",
              "    </tr>\n",
              "    <tr>\n",
              "      <th>11376</th>\n",
              "      <td>2018-02-01</td>\n",
              "      <td>474.2</td>\n",
              "      <td>479.9</td>\n",
              "      <td>472.9</td>\n",
              "      <td>477.8</td>\n",
              "      <td>4.2</td>\n",
              "      <td>475.1</td>\n",
              "      <td>430</td>\n",
              "      <td>5513</td>\n",
              "    </tr>\n",
              "    <tr>\n",
              "      <th>11377</th>\n",
              "      <td>2018-02-02</td>\n",
              "      <td>481.1</td>\n",
              "      <td>485.1</td>\n",
              "      <td>477.4</td>\n",
              "      <td>485.1</td>\n",
              "      <td>8.6</td>\n",
              "      <td>483.7</td>\n",
              "      <td>635</td>\n",
              "      <td>5519</td>\n",
              "    </tr>\n",
              "  </tbody>\n",
              "</table>\n",
              "<p>11378 rows × 9 columns</p>\n",
              "</div>"
            ],
            "text/plain": [
              "            Date   Open   High  ...  Settle  Volume  Previous Day Open Interest\n",
              "0     1972-11-16  128.4  128.4  ...   128.4       1                           1\n",
              "1     1972-11-17  128.4  128.4  ...   128.4       0                           1\n",
              "2     1972-11-20  128.4  128.4  ...   128.4       0                           1\n",
              "3     1972-11-21  127.0  127.0  ...   127.0       0                           1\n",
              "4     1972-11-27  127.1  127.1  ...   127.1       0                           1\n",
              "...          ...    ...    ...  ...     ...     ...                         ...\n",
              "11373 2018-01-29  489.9  489.9  ...   477.8     423                        5784\n",
              "11374 2018-01-30  472.3  474.0  ...   467.8     737                        5770\n",
              "11375 2018-01-31  468.1  477.8  ...   470.9     560                        5628\n",
              "11376 2018-02-01  474.2  479.9  ...   475.1     430                        5513\n",
              "11377 2018-02-02  481.1  485.1  ...   483.7     635                        5519\n",
              "\n",
              "[11378 rows x 9 columns]"
            ]
          },
          "metadata": {
            "tags": []
          },
          "execution_count": 35
        }
      ]
    },
    {
      "cell_type": "code",
      "metadata": {
        "colab": {
          "base_uri": "https://localhost:8080/"
        },
        "id": "RMKg8m3vNQoD",
        "outputId": "f68012bf-a513-43c0-dc29-b3c2713f145d"
      },
      "source": [
        "# #create a new dataframe\n",
        "# new_df = df.filter(['Last'])\n",
        "# #print(new_df)\n",
        "# last_100_days = new_df[-100:].values\n",
        "# #print(last_60_days)\n",
        "# last_100_days_scaled = scaler.fit_transform(last_100_days)\n",
        "# X_test = []\n",
        "# X_test.append(last_60_days_scaled)\n",
        "# X_test = np.array(X_test)\n",
        "# X_test = np.reshape(X_test, (X_test.shape[0], X_test.shape[1], 1))\n",
        "# pred_price = model.predict(X_test)\n",
        "# pred_price = scaler.inverse_transform(pred_price)\n",
        "# print(pred_price)\n"
      ],
      "execution_count": null,
      "outputs": [
        {
          "output_type": "stream",
          "text": [
            "[[484.01227]]\n"
          ],
          "name": "stdout"
        }
      ]
    },
    {
      "cell_type": "code",
      "metadata": {
        "id": "mkKzFGnALZec"
      },
      "source": [
        "#get the actual value for the current date from the data and then check how close the model has predicted\n",
        "#we do not have current data so cannot do this here"
      ],
      "execution_count": null,
      "outputs": []
    }
  ]
}